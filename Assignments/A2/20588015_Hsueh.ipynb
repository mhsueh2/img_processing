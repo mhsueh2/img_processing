{
 "cells": [
  {
   "cell_type": "markdown",
   "metadata": {},
   "source": [
    "# Assignment 2: Data Preprocessing, Parameter Tuning, Model Evaluation Using SVM and K-NN\n",
    "\n",
    "## What you will learn\n",
    "\n",
    "* Data preprocessing\n",
    "* Parameter Tuning\n",
    "* Model evaluation\n",
    "* Employing SVM and K-NN methods on the data\n",
    "\n",
    "## Setup\n",
    "\n",
    "* Download [Anaconda Python 3.6](https://www.anaconda.com/download/) for consistent environment.\n",
    "* Download Pandas library.\n",
    "* If you use pip environment then make sure your code is compatible with versions of libraries provided within Anaconda's Python 3.6 distribution.\n",
    "\n",
    "## Submission\n",
    "* Do not change any variable/function names.\n",
    "* Just add your own code and don't change existing code\n",
    "* Save this file and rename it to be **studentid_lastname.ipynb** (student id (underscore) last name.ipynb) where your student id is all numbers.\n",
    "* Export your .ipynb file to PDF (File > Download as > PDF via Latex). **Please don't leave this step for final minutes**.\n",
    "* Submit both the notebook and PDF files (**NO ZIP, RAR,..**).\n",
    "* If you happen to use any external library not included in Anaconda (mention in **Submission Notes** section below)"
   ]
  },
  {
   "cell_type": "code",
   "execution_count": 14,
   "metadata": {},
   "outputs": [],
   "source": [
    "from sklearn.svm import SVC\n",
    "from sklearn.pipeline import make_pipeline\n",
    "from sklearn.preprocessing import StandardScaler\n",
    "from sklearn.model_selection import GridSearchCV\n",
    "from sklearn.model_selection import train_test_split\n",
    "from sklearn.model_selection import StratifiedShuffleSplit\n",
    "from sklearn.cluster import KMeans\n",
    "from sklearn.metrics import classification_report\n",
    "import itertools\n",
    "from sklearn.metrics import confusion_matrix\n",
    "import pandas as pd\n",
    "import numpy as np\n",
    "import matplotlib.pyplot as plt\n",
    "%matplotlib inline\n",
    "\n",
    "# remove the following statements if you like to see warnings\n",
    "import warnings\n",
    "warnings.filterwarnings('ignore')"
   ]
  },
  {
   "cell_type": "markdown",
   "metadata": {},
   "source": [
    "## Submission Notes\n",
    "(Please write any notes here that you think I should know during marking)"
   ]
  },
  {
   "cell_type": "markdown",
   "metadata": {},
   "source": [
    "# [NO MARKS]  Warming Up\n",
    "Various interesting machine learning datasets can be found at:\n",
    "- https://archive.ics.uci.edu/ml/index.php\n",
    "\n",
    "For this task, we have chosen the Heart Disease dataset, available at:\n",
    "- https://archive.ics.uci.edu/ml/datasets/heart+Disease\n",
    "\n",
    "**Data Set Information**\n",
    "\n",
    "- The dataset contains **303 subjects** with **76 attributes**. \n",
    "- All the published experiments refer to using a subset of **14 of attributes**. \n",
    "- The **goal** field in the dataset refers to **the presence of heart disease** in the patient. \n",
    "- It is integer valued from 0 (no presence) to 4 (highest presence). \n",
    "\n",
    "**Note:** Since the class number 4 is very sparse (just 13 subjects). We have dropped the subjects belonging to class 4 from the data.\n",
    "\n",
    "Experiments with the Cleveland dataset have concentrated on---attempting to distinguish **the presence** (values 1, 2, 3, 4) from **the absence** (value 0).\n",
    "\n",
    "**Attribute Information**\n",
    "\n",
    "14 attributes are been used: \n",
    "\n",
    "1. #3 (age) \n",
    "2. #4 (sex) \n",
    "3. #9 (cp) \n",
    "4. #10 (trestbps) \n",
    "5. #12 (chol) \n",
    "6. #16 (fbs) \n",
    "7. #19 (restecg) \n",
    "8. #32 (thalach) \n",
    "9. #38 (exang) \n",
    "10. #40 (oldpeak) \n",
    "11. #41 (slope) \n",
    "12. #44 (ca) \n",
    "13. #51 (thal) \n",
    "14. #58 (num) (the predicted attribute)"
   ]
  },
  {
   "cell_type": "markdown",
   "metadata": {},
   "source": [
    "\n",
    "### (no marks) Reading the data\n"
   ]
  },
  {
   "cell_type": "code",
   "execution_count": 15,
   "metadata": {},
   "outputs": [
    {
     "name": "stdout",
     "output_type": "stream",
     "text": [
      "Data-set shape:  (303, 14)\n"
     ]
    },
    {
     "data": {
      "text/html": [
       "<div>\n",
       "<style scoped>\n",
       "    .dataframe tbody tr th:only-of-type {\n",
       "        vertical-align: middle;\n",
       "    }\n",
       "\n",
       "    .dataframe tbody tr th {\n",
       "        vertical-align: top;\n",
       "    }\n",
       "\n",
       "    .dataframe thead th {\n",
       "        text-align: right;\n",
       "    }\n",
       "</style>\n",
       "<table border=\"1\" class=\"dataframe\">\n",
       "  <thead>\n",
       "    <tr style=\"text-align: right;\">\n",
       "      <th></th>\n",
       "      <th>age</th>\n",
       "      <th>sex</th>\n",
       "      <th>cp</th>\n",
       "      <th>trestbps</th>\n",
       "      <th>chol</th>\n",
       "      <th>fbs</th>\n",
       "      <th>restecg</th>\n",
       "      <th>thalach</th>\n",
       "      <th>exang</th>\n",
       "      <th>oldpeak</th>\n",
       "      <th>slope</th>\n",
       "      <th>ca</th>\n",
       "      <th>thal</th>\n",
       "      <th>prediction</th>\n",
       "    </tr>\n",
       "  </thead>\n",
       "  <tbody>\n",
       "    <tr>\n",
       "      <th>293</th>\n",
       "      <td>63.0</td>\n",
       "      <td>1.0</td>\n",
       "      <td>4.0</td>\n",
       "      <td>140.0</td>\n",
       "      <td>187.0</td>\n",
       "      <td>0.0</td>\n",
       "      <td>2.0</td>\n",
       "      <td>144.0</td>\n",
       "      <td>1.0</td>\n",
       "      <td>4.0</td>\n",
       "      <td>1.0</td>\n",
       "      <td>2.0</td>\n",
       "      <td>7.0</td>\n",
       "      <td>2</td>\n",
       "    </tr>\n",
       "    <tr>\n",
       "      <th>294</th>\n",
       "      <td>63.0</td>\n",
       "      <td>0.0</td>\n",
       "      <td>4.0</td>\n",
       "      <td>124.0</td>\n",
       "      <td>197.0</td>\n",
       "      <td>0.0</td>\n",
       "      <td>0.0</td>\n",
       "      <td>136.0</td>\n",
       "      <td>1.0</td>\n",
       "      <td>0.0</td>\n",
       "      <td>2.0</td>\n",
       "      <td>0.0</td>\n",
       "      <td>3.0</td>\n",
       "      <td>1</td>\n",
       "    </tr>\n",
       "    <tr>\n",
       "      <th>295</th>\n",
       "      <td>41.0</td>\n",
       "      <td>1.0</td>\n",
       "      <td>2.0</td>\n",
       "      <td>120.0</td>\n",
       "      <td>157.0</td>\n",
       "      <td>0.0</td>\n",
       "      <td>0.0</td>\n",
       "      <td>182.0</td>\n",
       "      <td>0.0</td>\n",
       "      <td>0.0</td>\n",
       "      <td>1.0</td>\n",
       "      <td>0.0</td>\n",
       "      <td>3.0</td>\n",
       "      <td>0</td>\n",
       "    </tr>\n",
       "    <tr>\n",
       "      <th>296</th>\n",
       "      <td>59.0</td>\n",
       "      <td>1.0</td>\n",
       "      <td>4.0</td>\n",
       "      <td>164.0</td>\n",
       "      <td>176.0</td>\n",
       "      <td>1.0</td>\n",
       "      <td>2.0</td>\n",
       "      <td>90.0</td>\n",
       "      <td>0.0</td>\n",
       "      <td>1.0</td>\n",
       "      <td>2.0</td>\n",
       "      <td>2.0</td>\n",
       "      <td>6.0</td>\n",
       "      <td>3</td>\n",
       "    </tr>\n",
       "    <tr>\n",
       "      <th>297</th>\n",
       "      <td>57.0</td>\n",
       "      <td>0.0</td>\n",
       "      <td>4.0</td>\n",
       "      <td>140.0</td>\n",
       "      <td>241.0</td>\n",
       "      <td>0.0</td>\n",
       "      <td>0.0</td>\n",
       "      <td>123.0</td>\n",
       "      <td>1.0</td>\n",
       "      <td>0.2</td>\n",
       "      <td>2.0</td>\n",
       "      <td>0.0</td>\n",
       "      <td>7.0</td>\n",
       "      <td>1</td>\n",
       "    </tr>\n",
       "    <tr>\n",
       "      <th>298</th>\n",
       "      <td>45.0</td>\n",
       "      <td>1.0</td>\n",
       "      <td>1.0</td>\n",
       "      <td>110.0</td>\n",
       "      <td>264.0</td>\n",
       "      <td>0.0</td>\n",
       "      <td>0.0</td>\n",
       "      <td>132.0</td>\n",
       "      <td>0.0</td>\n",
       "      <td>1.2</td>\n",
       "      <td>2.0</td>\n",
       "      <td>0.0</td>\n",
       "      <td>7.0</td>\n",
       "      <td>1</td>\n",
       "    </tr>\n",
       "    <tr>\n",
       "      <th>299</th>\n",
       "      <td>68.0</td>\n",
       "      <td>1.0</td>\n",
       "      <td>4.0</td>\n",
       "      <td>144.0</td>\n",
       "      <td>193.0</td>\n",
       "      <td>1.0</td>\n",
       "      <td>0.0</td>\n",
       "      <td>141.0</td>\n",
       "      <td>0.0</td>\n",
       "      <td>3.4</td>\n",
       "      <td>2.0</td>\n",
       "      <td>2.0</td>\n",
       "      <td>7.0</td>\n",
       "      <td>2</td>\n",
       "    </tr>\n",
       "    <tr>\n",
       "      <th>300</th>\n",
       "      <td>57.0</td>\n",
       "      <td>1.0</td>\n",
       "      <td>4.0</td>\n",
       "      <td>130.0</td>\n",
       "      <td>131.0</td>\n",
       "      <td>0.0</td>\n",
       "      <td>0.0</td>\n",
       "      <td>115.0</td>\n",
       "      <td>1.0</td>\n",
       "      <td>1.2</td>\n",
       "      <td>2.0</td>\n",
       "      <td>1.0</td>\n",
       "      <td>7.0</td>\n",
       "      <td>3</td>\n",
       "    </tr>\n",
       "    <tr>\n",
       "      <th>301</th>\n",
       "      <td>57.0</td>\n",
       "      <td>0.0</td>\n",
       "      <td>2.0</td>\n",
       "      <td>130.0</td>\n",
       "      <td>236.0</td>\n",
       "      <td>0.0</td>\n",
       "      <td>2.0</td>\n",
       "      <td>174.0</td>\n",
       "      <td>0.0</td>\n",
       "      <td>0.0</td>\n",
       "      <td>2.0</td>\n",
       "      <td>1.0</td>\n",
       "      <td>3.0</td>\n",
       "      <td>1</td>\n",
       "    </tr>\n",
       "    <tr>\n",
       "      <th>302</th>\n",
       "      <td>38.0</td>\n",
       "      <td>1.0</td>\n",
       "      <td>3.0</td>\n",
       "      <td>138.0</td>\n",
       "      <td>175.0</td>\n",
       "      <td>0.0</td>\n",
       "      <td>0.0</td>\n",
       "      <td>173.0</td>\n",
       "      <td>0.0</td>\n",
       "      <td>0.0</td>\n",
       "      <td>1.0</td>\n",
       "      <td>?</td>\n",
       "      <td>3.0</td>\n",
       "      <td>0</td>\n",
       "    </tr>\n",
       "  </tbody>\n",
       "</table>\n",
       "</div>"
      ],
      "text/plain": [
       "      age  sex   cp  trestbps   chol  fbs  restecg  thalach  exang  oldpeak  \\\n",
       "293  63.0  1.0  4.0     140.0  187.0  0.0      2.0    144.0    1.0      4.0   \n",
       "294  63.0  0.0  4.0     124.0  197.0  0.0      0.0    136.0    1.0      0.0   \n",
       "295  41.0  1.0  2.0     120.0  157.0  0.0      0.0    182.0    0.0      0.0   \n",
       "296  59.0  1.0  4.0     164.0  176.0  1.0      2.0     90.0    0.0      1.0   \n",
       "297  57.0  0.0  4.0     140.0  241.0  0.0      0.0    123.0    1.0      0.2   \n",
       "298  45.0  1.0  1.0     110.0  264.0  0.0      0.0    132.0    0.0      1.2   \n",
       "299  68.0  1.0  4.0     144.0  193.0  1.0      0.0    141.0    0.0      3.4   \n",
       "300  57.0  1.0  4.0     130.0  131.0  0.0      0.0    115.0    1.0      1.2   \n",
       "301  57.0  0.0  2.0     130.0  236.0  0.0      2.0    174.0    0.0      0.0   \n",
       "302  38.0  1.0  3.0     138.0  175.0  0.0      0.0    173.0    0.0      0.0   \n",
       "\n",
       "     slope   ca thal  prediction  \n",
       "293    1.0  2.0  7.0           2  \n",
       "294    2.0  0.0  3.0           1  \n",
       "295    1.0  0.0  3.0           0  \n",
       "296    2.0  2.0  6.0           3  \n",
       "297    2.0  0.0  7.0           1  \n",
       "298    2.0  0.0  7.0           1  \n",
       "299    2.0  2.0  7.0           2  \n",
       "300    2.0  1.0  7.0           3  \n",
       "301    2.0  1.0  3.0           1  \n",
       "302    1.0    ?  3.0           0  "
      ]
     },
     "execution_count": 15,
     "metadata": {},
     "output_type": "execute_result"
    }
   ],
   "source": [
    "# Reading the data-set\n",
    "df = pd.read_csv('./processed_cleveland.csv', header=None)\n",
    "df.columns = ['age', 'sex', 'cp', 'trestbps', 'chol', 'fbs', \n",
    "                       'restecg', 'thalach', 'exang', 'oldpeak', 'slope', 'ca', 'thal', 'prediction']\n",
    "print('Data-set shape: ',df.shape)\n",
    "\n",
    "df.tail(n=10)"
   ]
  },
  {
   "cell_type": "markdown",
   "metadata": {},
   "source": [
    "\n",
    "### (no marks) Removing the missing data\n",
    "There are many missing data marked by '?' in the dataset. We will use *dropping* as the most straight-forward technique for removing such data-points."
   ]
  },
  {
   "cell_type": "code",
   "execution_count": 16,
   "metadata": {},
   "outputs": [],
   "source": [
    "# Removing all subjects from class 4\n",
    "df = df.loc[df.prediction != 4]\n",
    "\n",
    "# Replacing the missing data '?' with NAN values\n",
    "df.replace('?', np.nan, inplace=True) \n",
    "df = df.dropna()\n",
    "df = df.astype(float)"
   ]
  },
  {
   "cell_type": "markdown",
   "metadata": {},
   "source": [
    "\n",
    "### (no marks) Splitting the data\n"
   ]
  },
  {
   "cell_type": "code",
   "execution_count": 17,
   "metadata": {},
   "outputs": [
    {
     "name": "stdout",
     "output_type": "stream",
     "text": [
      "Training data: \n",
      " [[45.  0.  4. ...  2.  0.  3.]\n",
      " [41.  1.  2. ...  2.  0.  6.]\n",
      " [42.  1.  4. ...  1.  0.  3.]\n",
      " ...\n",
      " [67.  1.  4. ...  2.  2.  7.]\n",
      " [65.  1.  4. ...  2.  1.  7.]\n",
      " [62.  0.  4. ...  1.  0.  3.]]\n",
      "\n",
      "\n",
      "Training labels: \n",
      " [0. 0. 0. 1. 0. 3. 0. 0. 0. 1. 1. 3. 0. 1. 1. 0. 2. 3. 0. 1. 3. 3. 0. 0.\n",
      " 0. 2. 0. 0. 3. 0. 0. 0. 3. 1. 2. 0. 0. 3. 0. 0. 1. 1. 1. 1. 1. 1. 0. 0.\n",
      " 1. 3. 1. 2. 0. 2. 2. 0. 0. 0. 0. 1. 3. 1. 0. 2. 0. 0. 0. 0. 1. 0. 0. 0.\n",
      " 3. 0. 0. 0. 1. 0. 0. 0. 3. 1. 0. 0. 1. 1. 1. 0. 0. 3. 0. 0. 0. 2. 2. 0.\n",
      " 0. 0. 0. 0. 0. 3. 0. 2. 2. 2. 0. 1. 0. 0. 1. 1. 0. 0. 0. 0. 0. 0. 0. 2.\n",
      " 2. 0. 0. 1. 0. 0. 0. 1. 3. 0. 0. 0. 0. 0. 0. 2. 2. 1. 2. 0. 1. 0. 2. 0.\n",
      " 3. 1. 0. 0. 0. 3. 0. 0. 0. 2. 2. 0. 2. 1. 0. 0. 0. 3. 3. 0. 0. 0. 0. 1.\n",
      " 0. 1. 3. 0. 0. 1. 0. 1. 0. 0. 0. 0. 0. 3. 0. 1. 0. 0. 3. 0. 2. 3. 0. 0.\n",
      " 0. 0. 2. 0. 1. 1. 0. 0. 3. 0. 2. 1. 0. 2. 2. 0. 0. 0. 1. 0. 0. 0. 3. 1.\n",
      " 2. 0. 3. 0. 0. 3. 0. 3. 1. 2. 0.]\n"
     ]
    }
   ],
   "source": [
    "# Separating the data and the labels\n",
    "X = np.asarray(df[df.columns[:-1]]).astype(np.float32)\n",
    "y = np.asarray(df.prediction)\n",
    "\n",
    "# Splitting the data into the train and the test sets\n",
    "sss = StratifiedShuffleSplit(n_splits=1, test_size=0.2, random_state=0)\n",
    "sss.get_n_splits(X, y)\n",
    "\n",
    "train_index, test_index = next(sss.split(X, y))\n",
    "X_train, X_test = X[train_index], X[test_index]\n",
    "y_train, y_test = y[train_index], y[test_index]\n",
    "    \n",
    "print('Training data: \\n',X_train)\n",
    "print('\\n')\n",
    "print('Training labels: \\n',y_train)"
   ]
  },
  {
   "cell_type": "markdown",
   "metadata": {},
   "source": [
    "## [10 marks] Data Exploration\n",
    "\n",
    "a) (3 marks) Use `pandas` to find the ratio of the presence of disease versus the absence within the different `sex`.\n",
    "\n",
    "**Note:** `0` is female and `1` is male."
   ]
  },
  {
   "cell_type": "code",
   "execution_count": 18,
   "metadata": {},
   "outputs": [
    {
     "data": {
      "text/html": [
       "<div>\n",
       "<style scoped>\n",
       "    .dataframe tbody tr th:only-of-type {\n",
       "        vertical-align: middle;\n",
       "    }\n",
       "\n",
       "    .dataframe tbody tr th {\n",
       "        vertical-align: top;\n",
       "    }\n",
       "\n",
       "    .dataframe thead th {\n",
       "        text-align: right;\n",
       "    }\n",
       "</style>\n",
       "<table border=\"1\" class=\"dataframe\">\n",
       "  <thead>\n",
       "    <tr style=\"text-align: right;\">\n",
       "      <th></th>\n",
       "      <th>ratio</th>\n",
       "    </tr>\n",
       "    <tr>\n",
       "      <th>sex</th>\n",
       "      <th></th>\n",
       "    </tr>\n",
       "  </thead>\n",
       "  <tbody>\n",
       "    <tr>\n",
       "      <th>0.0</th>\n",
       "      <td>0.323944</td>\n",
       "    </tr>\n",
       "    <tr>\n",
       "      <th>1.0</th>\n",
       "      <td>1.134831</td>\n",
       "    </tr>\n",
       "  </tbody>\n",
       "</table>\n",
       "</div>"
      ],
      "text/plain": [
       "        ratio\n",
       "sex          \n",
       "0.0  0.323944\n",
       "1.0  1.134831"
      ]
     },
     "metadata": {},
     "output_type": "display_data"
    }
   ],
   "source": [
    "# we have defined a new column which is `true` if there is a presence of disease (i.e., prediction is [1, 2, 3])\n",
    "df['has_disease'] = df.apply(lambda x: x.prediction in [1, 2, 3], axis=1)\n",
    "\n",
    "# use groupby and aggregation\n",
    "aggr = {'ratio' : lambda x: sum(x) / (len(x) - sum(x))}\n",
    "display(df.groupby('sex')['has_disease'].agg(aggr))"
   ]
  },
  {
   "cell_type": "markdown",
   "metadata": {},
   "source": [
    "b) (7 marks) Do the same thing for age. Split the age groups as follows (left included, right isn't):\n",
    "\n",
    "1. [29, 49)\n",
    "2. [49, 69)\n",
    "3. [69, inf)\n",
    "\n",
    "And then find the average ratio of prevalence of the heart disease within the each group."
   ]
  },
  {
   "cell_type": "code",
   "execution_count": 19,
   "metadata": {},
   "outputs": [
    {
     "data": {
      "text/html": [
       "<div>\n",
       "<style scoped>\n",
       "    .dataframe tbody tr th:only-of-type {\n",
       "        vertical-align: middle;\n",
       "    }\n",
       "\n",
       "    .dataframe tbody tr th {\n",
       "        vertical-align: top;\n",
       "    }\n",
       "\n",
       "    .dataframe thead th {\n",
       "        text-align: right;\n",
       "    }\n",
       "</style>\n",
       "<table border=\"1\" class=\"dataframe\">\n",
       "  <thead>\n",
       "    <tr style=\"text-align: right;\">\n",
       "      <th></th>\n",
       "      <th>ratio</th>\n",
       "    </tr>\n",
       "    <tr>\n",
       "      <th>age</th>\n",
       "      <th></th>\n",
       "    </tr>\n",
       "  </thead>\n",
       "  <tbody>\n",
       "    <tr>\n",
       "      <th>(28.0, 48.0]</th>\n",
       "      <td>0.385965</td>\n",
       "    </tr>\n",
       "    <tr>\n",
       "      <th>(48.0, 68.0]</th>\n",
       "      <td>1.042105</td>\n",
       "    </tr>\n",
       "    <tr>\n",
       "      <th>(68.0, inf]</th>\n",
       "      <td>0.375000</td>\n",
       "    </tr>\n",
       "  </tbody>\n",
       "</table>\n",
       "</div>"
      ],
      "text/plain": [
       "                 ratio\n",
       "age                   \n",
       "(28.0, 48.0]  0.385965\n",
       "(48.0, 68.0]  1.042105\n",
       "(68.0, inf]   0.375000"
      ]
     },
     "metadata": {},
     "output_type": "display_data"
    }
   ],
   "source": [
    "# write your code here\n",
    "ranges = [28,48,68,np.inf]\n",
    "display(df.groupby(pd.cut(df.age, ranges))['has_disease'].agg(aggr))"
   ]
  },
  {
   "cell_type": "markdown",
   "metadata": {},
   "source": [
    "### (no marks) Utility function"
   ]
  },
  {
   "cell_type": "code",
   "execution_count": 20,
   "metadata": {},
   "outputs": [],
   "source": [
    "# Do not change the function\n",
    "# This function is adapted from the sklearn website\n",
    "# This function let you draw a confusion matrix for your problem\n",
    "\n",
    "def plot_confusion_matrix(cm, classes,\n",
    "                          normalize=False,\n",
    "                          title='Confusion matrix',\n",
    "                          cmap=plt.cm.Blues):\n",
    "    \"\"\"\n",
    "    This function prints and plots the confusion matrix.\n",
    "    Normalization can be applied by setting `normalize=True`.\n",
    "    \"\"\"\n",
    "    if normalize:\n",
    "        cm = cm.astype('float') / cm.sum(axis=1)[:, np.newaxis]\n",
    "        print(\"Normalized confusion matrix\")\n",
    "    else:\n",
    "        print('Confusion matrix, without normalization')\n",
    "\n",
    "    print(cm)\n",
    "\n",
    "    plt.imshow(cm, interpolation='nearest', cmap=cmap)\n",
    "    plt.title(title)\n",
    "    plt.colorbar()\n",
    "    tick_marks = np.arange(len(classes))\n",
    "    plt.xticks(tick_marks, classes, rotation=45)\n",
    "    plt.yticks(tick_marks, classes)\n",
    "\n",
    "    fmt = '.2f' if normalize else 'd'\n",
    "    thresh = cm.max() / 2.\n",
    "    for i, j in itertools.product(range(cm.shape[0]), range(cm.shape[1])):\n",
    "        plt.text(j, i, format(cm[i, j], fmt),\n",
    "                 horizontalalignment=\"center\",\n",
    "                 color=\"white\" if cm[i, j] > thresh else \"black\")\n",
    "\n",
    "    plt.ylabel('True label')\n",
    "    plt.xlabel('Predicted label')\n",
    "    plt.tight_layout()"
   ]
  },
  {
   "cell_type": "code",
   "execution_count": 21,
   "metadata": {},
   "outputs": [
    {
     "name": "stdout",
     "output_type": "stream",
     "text": [
      "Confusion matrix, without normalization\n",
      "[[1 2]\n",
      " [3 4]]\n"
     ]
    },
    {
     "data": {
      "image/png": "[encoded data removed]",
      "text/plain": [
       "<Figure size 432x288 with 2 Axes>"
      ]
     },
     "metadata": {
      "needs_background": "light"
     },
     "output_type": "display_data"
    }
   ],
   "source": [
    "# usage\n",
    "plot_confusion_matrix(np.array([[1, 2], [3, 4]]), ['class 1', 'class 2'])"
   ]
  },
  {
   "cell_type": "markdown",
   "metadata": {},
   "source": [
    "# Task 1 [20 marks]\n",
    "\n",
    "### a) [10 marks] Applying KNN to the data"
   ]
  },
  {
   "cell_type": "code",
   "execution_count": 22,
   "metadata": {},
   "outputs": [
    {
     "name": "stdout",
     "output_type": "stream",
     "text": [
      "              precision    recall  f1-score   support\n",
      "\n",
      "         0.0       0.84      0.97      0.90        32\n",
      "         1.0       0.30      0.27      0.29        11\n",
      "         2.0       0.50      0.14      0.22         7\n",
      "         3.0       0.38      0.43      0.40         7\n",
      "\n",
      "   micro avg       0.67      0.67      0.67        57\n",
      "   macro avg       0.50      0.45      0.45        57\n",
      "weighted avg       0.64      0.67      0.64        57\n",
      "\n",
      "Confusion matrix, without normalization\n",
      "[[31  1  0  0]\n",
      " [ 5  3  0  3]\n",
      " [ 1  3  1  2]\n",
      " [ 0  3  1  3]]\n"
     ]
    },
    {
     "data": {
      "image/png": "[encoded data removed]",
      "text/plain": [
       "<Figure size 432x288 with 2 Axes>"
      ]
     },
     "metadata": {
      "needs_background": "light"
     },
     "output_type": "display_data"
    }
   ],
   "source": [
    "from sklearn.neighbors import KNeighborsClassifier  \n",
    "from sklearn.preprocessing import MinMaxScaler\n",
    "\n",
    "# Task 2\n",
    "# Add your code in the following part:\n",
    "\n",
    "# We use min max scaler to normalize the features between [0, 1] \n",
    "scaler = MinMaxScaler()\n",
    "\n",
    "# Add your code here instead of ...\n",
    "scaler.fit(X_train)\n",
    "\n",
    "# Create a knn classifier instance here (If you don't add anything here, your code won't execute!)\n",
    "knn_clf = KNeighborsClassifier()\n",
    "\n",
    "# Fit the classifier using the train data (If you don't add anything here, your code won't execute!)\n",
    "knn_clf.fit(scaler.transform(X_train), y_train)\n",
    "\n",
    "# Predict the test class labels using the trained classifier (If you don't add anything here, your code won't execute!)\n",
    "y_pred = knn_clf.predict(scaler.transform(X_test))\n",
    "\n",
    "# (If you don't add anything here, your code won't execute!) \n",
    "print(classification_report(y_test, y_pred))\n",
    "\n",
    "cnf_matrix = confusion_matrix(y_test, y_pred)\n",
    "plot_confusion_matrix(cnf_matrix, classes=[0,1,2,3],\n",
    "                      title='Confusion matrix, without normalization')"
   ]
  },
  {
   "cell_type": "markdown",
   "metadata": {},
   "source": [
    "### b) [5 marks] Between $K=3$ and $k=5$ which one gives more  accuracy ?"
   ]
  },
  {
   "cell_type": "code",
   "execution_count": 23,
   "metadata": {},
   "outputs": [
    {
     "name": "stdout",
     "output_type": "stream",
     "text": [
      "0.6666666666666666 0.5964912280701754\n"
     ]
    }
   ],
   "source": [
    "from sklearn.metrics import accuracy_score\n",
    "\n",
    "# write your code here and populate `y_pred_k5` and `y_pred_k3`\n",
    "# knn_clf defaults to 5 neighbors\n",
    "knn_clf.n_neighbors = 5\n",
    "y_pred_k5 = knn_clf.predict(scaler.transform(X_test))\n",
    "\n",
    "knn_clf.n_neighbors = 3\n",
    "y_pred_k3 = knn_clf.predict(scaler.transform(X_test))\n",
    "\n",
    "print(accuracy_score(y_test, y_pred_k5), accuracy_score(y_test, y_pred_k3))"
   ]
  },
  {
   "cell_type": "markdown",
   "metadata": {},
   "source": [
    "### c) [5 marks] Between $\\ell_1$, $\\ell_2$, and $cosine$ similarity which one is better in term of accuracy?"
   ]
  },
  {
   "cell_type": "code",
   "execution_count": 24,
   "metadata": {},
   "outputs": [
    {
     "name": "stdout",
     "output_type": "stream",
     "text": [
      "l1 :  0.6491228070175439\n",
      "l2 :  0.6666666666666666\n",
      "cos :  0.6666666666666666\n"
     ]
    }
   ],
   "source": [
    "# write your code here to experiment with different distance metrics\n",
    "# use argument `metric` to change to a different distance by default it is euclidean distance\n",
    "\n",
    "metrics = {\n",
    "    'l1': 'manhattan',\n",
    "    'l2': 'minkowski',\n",
    "    'cos': 'cosine'\n",
    "}\n",
    "\n",
    "for k, v in metrics.items():\n",
    "    clf = KNeighborsClassifier(metric=v)\n",
    "    clf.fit(scaler.transform(X_train), y_train)\n",
    "    y_pred = clf.predict(scaler.transform(X_test))\n",
    "    \n",
    "    print(k, ': ' , accuracy_score(y_test, y_pred))\n"
   ]
  },
  {
   "cell_type": "markdown",
   "metadata": {},
   "source": [
    "# Task 2 [10 marks]\n",
    "\n",
    "### Understanding the pipelining architecture of `Sklearn`\n",
    "\n",
    "In the code above, you had to call `scaler` for every prediction by a model. This can be avoided by using a `pipeline` mechanism within sklearn. Look at the code below:\n",
    "\n",
    "1. We create a data scaler (can be any sclaer with fit and transform functions).\n",
    "2. We create SVC object (again with fit anf transform functions).\n",
    "3. Then we create a pipeline: `data --> scaler --> svc --> fit`.\n",
    "4. The same transformation is also applied during the prediction phase.\n",
    "\n",
    "We further use a `GridSearchCV` for the SVC's parameters tuning."
   ]
  },
  {
   "cell_type": "code",
   "execution_count": 25,
   "metadata": {},
   "outputs": [
    {
     "name": "stdout",
     "output_type": "stream",
     "text": [
      "Wall time: 189 ms\n",
      "Pipeline(memory=None,\n",
      "     steps=[('standardscaler', StandardScaler(copy=True, with_mean=True, with_std=True)), ('svc', SVC(C=50, cache_size=200, class_weight=None, coef0=0.0,\n",
      "  decision_function_shape='ovr', degree=3, gamma=0.001, kernel='rbf',\n",
      "  max_iter=-1, probability=False, random_state=None, shrinking=True,\n",
      "  tol=0.001, verbose=False))])\n"
     ]
    }
   ],
   "source": [
    "# Task 2\n",
    "\n",
    "# Creating a SVM classifier instance\n",
    "svc = SVC()\n",
    "\n",
    "# Add a scaler here (If you don't add anything here, your code won't execute!)\n",
    "data_scaler = StandardScaler()\n",
    "\n",
    "# Update the pipeline by adding the scaler from the previous line\n",
    "model = make_pipeline(data_scaler, svc)\n",
    "param_grid = {'svc__C': [1, 5, 10, 50],\n",
    "              'svc__gamma': [0.0001, 0.0005, 0.001, 0.005]}\n",
    "\n",
    "grid = GridSearchCV(model, param_grid)\n",
    "%time grid.fit(X_train, y_train)\n",
    "print( grid.best_estimator_)"
   ]
  },
  {
   "cell_type": "code",
   "execution_count": 26,
   "metadata": {},
   "outputs": [],
   "source": [
    "# Selecting the best estimator after the parameter search\n",
    "model = grid.best_estimator_"
   ]
  },
  {
   "cell_type": "code",
   "execution_count": 27,
   "metadata": {},
   "outputs": [],
   "source": [
    "# Predicting the test labels\n",
    "y_pred = model.predict(X_test)"
   ]
  },
  {
   "cell_type": "code",
   "execution_count": 28,
   "metadata": {},
   "outputs": [
    {
     "name": "stdout",
     "output_type": "stream",
     "text": [
      "              precision    recall  f1-score   support\n",
      "\n",
      "         0.0       0.78      0.97      0.86        32\n",
      "         1.0       0.43      0.27      0.33        11\n",
      "         2.0       0.33      0.29      0.31         7\n",
      "         3.0       0.25      0.14      0.18         7\n",
      "\n",
      "   micro avg       0.65      0.65      0.65        57\n",
      "   macro avg       0.45      0.42      0.42        57\n",
      "weighted avg       0.59      0.65      0.61        57\n",
      "\n"
     ]
    }
   ],
   "source": [
    "# Printing the classification report\n",
    "print(classification_report(y_pred=y_pred,y_true=y_test))"
   ]
  },
  {
   "cell_type": "code",
   "execution_count": 29,
   "metadata": {},
   "outputs": [
    {
     "name": "stdout",
     "output_type": "stream",
     "text": [
      "Confusion matrix, without normalization\n",
      "[[31  0  1  0]\n",
      " [ 7  3  1  0]\n",
      " [ 1  1  2  3]\n",
      " [ 1  3  2  1]]\n"
     ]
    },
    {
     "data": {
      "image/png": "[encoded data removed]",
      "text/plain": [
       "<Figure size 432x288 with 2 Axes>"
      ]
     },
     "metadata": {
      "needs_background": "light"
     },
     "output_type": "display_data"
    }
   ],
   "source": [
    "# Computing the confusion matrix for the test data\n",
    "cnf_matrix = confusion_matrix(y_test, y_pred)\n",
    "\n",
    "# Plotting the confusion matrix using the previous function\n",
    "plot_confusion_matrix(cnf_matrix, classes=[0,1,2,3],\n",
    "                      title='Confusion matrix, without normalization')"
   ]
  },
  {
   "cell_type": "markdown",
   "metadata": {},
   "source": [
    "# Task 3 [40 marks]\n",
    "\n",
    "### How to handle the missing data\n",
    "\n",
    "More information can be found here:\n",
    "(https://pandas.pydata.org/pandas-docs/stable/user_guide/missing_data.html)\n",
    "\n",
    "a) [6 scores] Name two numeric methods for dealing with the missing data (except dropping):\n",
    "    \n",
    "    Write the answer here:\n",
    "    \n",
    "    1- Interpolation\n",
    "    \n",
    "    2- Filling missing values with mean: fillna \n",
    "    "
   ]
  },
  {
   "cell_type": "markdown",
   "metadata": {},
   "source": [
    "b) [12 scores] Apply the methods that you mentioned in part (a) to the `df_with_missing_data` dataframe:"
   ]
  },
  {
   "cell_type": "code",
   "execution_count": 30,
   "metadata": {},
   "outputs": [],
   "source": [
    "# Task 3 part (b)\n",
    "# Add your code here (If you don't add anything here, your code won't execute!)\n",
    "\n",
    "df_with_missing_data = pd.read_csv('./processed_cleveland.csv', header=None)\n",
    "df_with_missing_data.columns = ['age', 'sex', 'cp', 'trestbps', 'chol', 'fbs', \n",
    "                                'restecg', 'thalach', 'exang', 'oldpeak', 'slope', 'ca', 'thal', 'prediction']\n",
    "\n",
    "# Replace string value ? with Null\n",
    "df_with_missing_data.replace('?', np.nan, inplace=True)\n",
    "# Removing class 4\n",
    "df_with_missing_data = df_with_missing_data.loc[df_with_missing_data.prediction != 4]\n",
    "# Set all cells to float64 type\n",
    "df_with_missing_data = df_with_missing_data.astype(np.float64)\n",
    "\n",
    "df_1 = df_with_missing_data.interpolate()\n",
    "\n",
    "df_2 = df_with_missing_data.fillna(df_with_missing_data.mean())\n"
   ]
  },
  {
   "cell_type": "markdown",
   "metadata": {},
   "source": [
    "c) [22 scores] Apply the steps described in *Task 2* on `df_1` and `df_2` and show the results using `classification_report` and `plot_confusion_matrix`."
   ]
  },
  {
   "cell_type": "code",
   "execution_count": 31,
   "metadata": {},
   "outputs": [
    {
     "name": "stdout",
     "output_type": "stream",
     "text": [
      "\n",
      "\n",
      "Classification Report For Data Filled By Interpolation\n",
      "Wall time: 166 ms\n",
      "              precision    recall  f1-score   support\n",
      "\n",
      "         0.0       0.82      0.94      0.87        33\n",
      "         1.0       0.17      0.18      0.17        11\n",
      "         2.0       0.25      0.14      0.18         7\n",
      "         3.0       0.25      0.14      0.18         7\n",
      "\n",
      "   micro avg       0.60      0.60      0.60        58\n",
      "   macro avg       0.37      0.35      0.35        58\n",
      "weighted avg       0.56      0.60      0.57        58\n",
      "\n",
      "Confusion matrix, without normalization\n",
      "[[31  2  0  0]\n",
      " [ 6  2  1  2]\n",
      " [ 1  4  1  1]\n",
      " [ 0  4  2  1]]\n"
     ]
    },
    {
     "data": {
      "image/png": "[encoded data removed]",
      "text/plain": [
       "<Figure size 432x288 with 2 Axes>"
      ]
     },
     "metadata": {
      "needs_background": "light"
     },
     "output_type": "display_data"
    },
    {
     "name": "stdout",
     "output_type": "stream",
     "text": [
      "\n",
      "\n",
      "Classification Report For Data Filled By Mean\n",
      "Wall time: 160 ms\n",
      "              precision    recall  f1-score   support\n",
      "\n",
      "         0.0       0.79      0.94      0.86        33\n",
      "         1.0       0.23      0.27      0.25        11\n",
      "         2.0       0.25      0.14      0.18         7\n",
      "         3.0       0.00      0.00      0.00         7\n",
      "\n",
      "   micro avg       0.60      0.60      0.60        58\n",
      "   macro avg       0.32      0.34      0.32        58\n",
      "weighted avg       0.53      0.60      0.56        58\n",
      "\n",
      "Confusion matrix, without normalization\n",
      "[[31  2  0  0]\n",
      " [ 6  3  1  1]\n",
      " [ 2  3  1  1]\n",
      " [ 0  5  2  0]]\n"
     ]
    },
    {
     "data": {
      "image/png": "[encoded data removed]",
      "text/plain": [
       "<Figure size 432x288 with 2 Axes>"
      ]
     },
     "metadata": {
      "needs_background": "light"
     },
     "output_type": "display_data"
    }
   ],
   "source": [
    "# Task 3 part (c)\n",
    "# Add your code here\n",
    "def init_grid():\n",
    "    # Creating a SVM classifier instance\n",
    "    svc = SVC()\n",
    "\n",
    "    # Add a scaler here (If you don't add anything here, your code won't execute!)\n",
    "    data_scaler = StandardScaler()\n",
    "\n",
    "    # Update the pipeline by adding the scaler from the previous line\n",
    "    model = make_pipeline(data_scaler, svc)\n",
    "    param_grid = {'svc__C': [1, 5, 10, 50],\n",
    "                  'svc__gamma': [0.0001, 0.0005, 0.001, 0.005]}\n",
    "\n",
    "    return GridSearchCV(model, param_grid)\n",
    "\n",
    "def split_data(df):\n",
    "    # Separating the data and the labels\n",
    "    X = np.asarray(df[df.columns[:-1]]).astype(np.float64)\n",
    "    y = np.asarray(df.prediction)\n",
    "\n",
    "    # Splitting the data into the train and the test sets\n",
    "    sss = StratifiedShuffleSplit(n_splits=1, test_size=0.2, random_state=0)\n",
    "    sss.get_n_splits(X, y)\n",
    "\n",
    "    train_index, test_index = next(sss.split(X, y))\n",
    "    X_train, X_test = X[train_index], X[test_index]\n",
    "    y_train, y_test = y[train_index], y[test_index]\n",
    "    return X_train, X_test, y_train, y_test\n",
    "\n",
    "def get_prediction(data):\n",
    "    X_train, X_test, y_train, y_test = data\n",
    "    \n",
    "    %time grid.fit(X_train, y_train)\n",
    "    grid.best_estimator_\n",
    "    model = grid.best_estimator_\n",
    "    y_pred = model.predict(X_test)\n",
    "    return y_pred, y_test\n",
    "\n",
    "grid = init_grid()\n",
    "method = ('Interpolation', 'Mean')\n",
    "\n",
    "# Process the 2 data set and display results as instructed\n",
    "for i, df in enumerate((df_1, df_2)):\n",
    "    print('\\n')\n",
    "    print('Classification Report For Data Filled By ' + method[i])\n",
    "    y_p, y_t = get_prediction(split_data(df))\n",
    "    print(classification_report(y_pred=y_p,y_true=y_t))\n",
    "    \n",
    "    # Computing the confusion matrix for the test data\n",
    "    cnf_matrix = confusion_matrix(y_t, y_p)\n",
    "\n",
    "    # Plotting the confusion matrix using the previous function\n",
    "    plot_confusion_matrix(cnf_matrix, classes=[0,1,2,3],\n",
    "                          title= method[i] + ' Filled Data Confusion matrix, without normalization')\n",
    "    \n",
    "    # Ensures the plotted image displays during runtime\n",
    "    plt.show()"
   ]
  },
  {
   "cell_type": "markdown",
   "metadata": {},
   "source": [
    "# Task 4 [20 marks]\n",
    "\n",
    "### Model Evaluation\n",
    "\n",
    "For the given confusion matrix, answer the following questions."
   ]
  },
  {
   "cell_type": "code",
   "execution_count": 32,
   "metadata": {},
   "outputs": [
    {
     "data": {
      "image/png": "[encoded data removed]",
      "text/plain": [
       "<Figure size 720x720 with 1 Axes>"
      ]
     },
     "metadata": {
      "needs_background": "light"
     },
     "output_type": "display_data"
    }
   ],
   "source": [
    "I = plt.imread('foo.png')\n",
    "fig = plt.figure(figsize= (10,10))\n",
    "plt.imshow(I)\n",
    "plt.axis('off')\n",
    "plt.show()"
   ]
  },
  {
   "cell_type": "markdown",
   "metadata": {},
   "source": [
    "#### Calculate the following parameters (Use macro-average definition)\n",
    "You can find all these definitions on https://scikit-learn.org/stable/auto_examples/model_selection/plot_precision_recall.html \n",
    " and https://en.wikipedia.org/wiki/Confusion_matrix\n",
    " \n",
    " Write your answer in front of each parameter:\n",
    "\n",
    "1- [2 scores] total number of instances = 3+2+1+0+2+2+2+1+2 = 15\n",
    "\n",
    "2- [2 scores] number of classes = 3\n",
    "\n",
    "3- [2 scores] True positive (TP) = (3+2+2)/3=~ 2.33\n",
    "\n",
    "4- [2 scores] True negative (TN) = (7+8+7)/3=~ 7.33 \n",
    "\n",
    "5- [2 scores] False positive (FP) = (2+3+3)/3=~ 2.67\n",
    "\n",
    "6- [2 scores] False negative (FN) = (3+2+3)/3=~ 2.67\n",
    "\n",
    "7- [2 scores] Sensitivity, recall, hit rate, or true positive rate (TPR) = (0.5+0.5+0.4)/3=~ 0.47\n",
    "\n",
    "8- [2 scores] Specificity, selectivity or true negative rate (TNR) = (0.78+0.73+0.70)/3=~ 0.74\n",
    "\n",
    "9- [4 scores] F1-Score = (0.55+0.44+0.40)/3=~ 0.46"
   ]
  },
  {
   "cell_type": "code",
   "execution_count": 33,
   "metadata": {},
   "outputs": [],
   "source": [
    "# Assignment end"
   ]
  }
 ],
 "metadata": {
  "kernelspec": {
   "display_name": "Python 3",
   "language": "python",
   "name": "python3"
  },
  "language_info": {
   "codemirror_mode": {
    "name": "ipython",
    "version": 3
   },
   "file_extension": ".py",
   "mimetype": "text/x-python",
   "name": "python",
   "nbconvert_exporter": "python",
   "pygments_lexer": "ipython3",
   "version": "3.7.1"
  }
 },
 "nbformat": 4,
 "nbformat_minor": 2
}
